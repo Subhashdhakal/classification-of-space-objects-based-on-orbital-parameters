{
 "cells": [
  {
   "cell_type": "code",
   "execution_count": 1,
   "id": "05a59de2-b064-40ed-a109-0bb39f8a655e",
   "metadata": {},
   "outputs": [],
   "source": [
    "import pandas as pd\n",
    "import numpy as np\n",
    "import matplotlib.pyplot as plt\n",
    "import seaborn as sns\n",
    "from scipy import stats\n",
    "from sklearn.preprocessing import LabelEncoder, OneHotEncoder, StandardScaler\n",
    "from sklearn.model_selection import train_test_split\n",
    "from sklearn.neighbors import KNeighborsClassifier\n",
    "from sklearn.tree import DecisionTreeClassifier\n",
    "from sklearn.ensemble import RandomForestClassifier\n",
    "from sklearn.svm import SVC\n",
    "from sklearn.metrics import accuracy_score, classification_report, confusion_matrix\n",
    "from sklearn.model_selection import cross_val_score\n",
    "from imblearn.over_sampling import RandomOverSampler, SMOTE\n",
    "from imblearn.under_sampling import RandomUnderSampler\n",
    "from sklearn.feature_selection import mutual_info_classif, chi2, f_classif, SelectKBest"
   ]
  },
  {
   "cell_type": "code",
   "execution_count": 2,
   "id": "b096f1e5-6866-4ce2-9b2c-9c24b44a5d3b",
   "metadata": {},
   "outputs": [],
   "source": [
    "# Load the dataset \n",
    "data = pd.read_csv('Space_data1.csv')\n"
   ]
  },
  {
   "cell_type": "code",
   "execution_count": 3,
   "id": "becda8ee-a54b-4814-8622-cad3f74792eb",
   "metadata": {},
   "outputs": [
    {
     "name": "stdout",
     "output_type": "stream",
     "text": [
      "EPOCH                  0\n",
      "MEAN_MOTION            0\n",
      "ECCENTRICITY           0\n",
      "INCLINATION            0\n",
      "RA_OF_ASC_NODE         0\n",
      "ARG_OF_PERICENTER      0\n",
      "MEAN_ANOMALY           0\n",
      "BSTAR                  0\n",
      "MEAN_MOTION_DOT        0\n",
      "MEAN_MOTION_DDOT       0\n",
      "SEMIMAJOR_AXIS         0\n",
      "PERIOD                 0\n",
      "APOAPSIS               0\n",
      "PERIAPSIS              0\n",
      "OBJECT_TYPE            0\n",
      "RCS_SIZE             159\n",
      "COUNTRY_CODE           0\n",
      "LAUNCH_DATE            0\n",
      "SITE                   0\n",
      "FILE                   0\n",
      "dtype: int64\n"
     ]
    }
   ],
   "source": [
    "# Check for missing values\n",
    "print(data.isnull().sum())"
   ]
  },
  {
   "cell_type": "code",
   "execution_count": 4,
   "id": "6e2c4859-3548-4e9b-9570-9309a444bbc8",
   "metadata": {},
   "outputs": [
    {
     "name": "stdout",
     "output_type": "stream",
     "text": [
      "EPOCH                0\n",
      "MEAN_MOTION          0\n",
      "ECCENTRICITY         0\n",
      "INCLINATION          0\n",
      "RA_OF_ASC_NODE       0\n",
      "ARG_OF_PERICENTER    0\n",
      "MEAN_ANOMALY         0\n",
      "BSTAR                0\n",
      "MEAN_MOTION_DOT      0\n",
      "MEAN_MOTION_DDOT     0\n",
      "SEMIMAJOR_AXIS       0\n",
      "PERIOD               0\n",
      "APOAPSIS             0\n",
      "PERIAPSIS            0\n",
      "OBJECT_TYPE          0\n",
      "RCS_SIZE             0\n",
      "COUNTRY_CODE         0\n",
      "LAUNCH_DATE          0\n",
      "SITE                 0\n",
      "FILE                 0\n",
      "dtype: int64\n"
     ]
    }
   ],
   "source": [
    "data[\"RCS_SIZE\"]= data[\"RCS_SIZE\"].fillna(\"Unknown\")\n",
    "print(data.isnull().sum())"
   ]
  },
  {
   "cell_type": "code",
   "execution_count": 6,
   "id": "fcffee17-ed12-4f3d-9b6c-98ccc7bf201c",
   "metadata": {},
   "outputs": [
    {
     "name": "stdout",
     "output_type": "stream",
     "text": [
      "Count of 'TBA' object type: 208\n",
      "Count of 'debris' object type: 8431\n",
      "Count of 'payload' object type: 4950\n",
      "Count of 'rocket body' object type: 744\n"
     ]
    }
   ],
   "source": [
    "# Count occurrences of each object type\n",
    "object_type_counts = data['OBJECT_TYPE'].value_counts()\n",
    "\n",
    "# Display the count of \"TBA\" object type\n",
    "tba_count = object_type_counts.get('TBA', 0)\n",
    "print(f\"Count of 'TBA' object type: {tba_count}\")\n",
    "\n",
    "# Display the count of \"TBA\" object type\n",
    "debris_count = object_type_counts.get('DEBRIS', 0)\n",
    "print(f\"Count of 'debris' object type: {debris_count}\")\n",
    "\n",
    "# Display the count of \"TBA\" object type\n",
    "payload_count = object_type_counts.get('PAYLOAD', 0)\n",
    "print(f\"Count of 'payload' object type: {payload_count}\")\n",
    "\n",
    "# Display the count of \"TBA\" object type\n",
    "rocket_count = object_type_counts.get('ROCKET BODY', 0)\n",
    "print(f\"Count of 'rocket body' object type: {rocket_count}\")"
   ]
  },
  {
   "cell_type": "code",
   "execution_count": 7,
   "id": "71008cda-1817-4137-a35a-c4bcab71d008",
   "metadata": {},
   "outputs": [
    {
     "name": "stdout",
     "output_type": "stream",
     "text": [
      "0         DEBRIS\n",
      "1         DEBRIS\n",
      "2        PAYLOAD\n",
      "3         DEBRIS\n",
      "4         DEBRIS\n",
      "          ...   \n",
      "14328     DEBRIS\n",
      "14329     DEBRIS\n",
      "14330     DEBRIS\n",
      "14331     DEBRIS\n",
      "14332    PAYLOAD\n",
      "Name: OBJECT_TYPE, Length: 14125, dtype: object\n"
     ]
    }
   ],
   "source": [
    "# Remove rows where OBJECT_TYPE is 'TBA'\n",
    "data = data[data['OBJECT_TYPE'] != 'TBA']\n",
    "\n",
    "# Check the updated DataFrame to ensure rows are removed\n",
    "print(data['OBJECT_TYPE'])"
   ]
  },
  {
   "cell_type": "code",
   "execution_count": 8,
   "id": "6135bffa-9585-49bb-ba5e-e44a5c768d90",
   "metadata": {},
   "outputs": [],
   "source": [
    "# lebel encoders\n",
    "label_encoders = {}\n",
    "categorical_columns = ['OBJECT_TYPE', 'RCS_SIZE', 'COUNTRY_CODE', 'SITE', 'FILE']\n",
    "\n",
    "# Iterate over the categorical columns and apply LabelEncoder\n",
    "for column in categorical_columns:\n",
    "    le = LabelEncoder()\n",
    "    data[column] = le.fit_transform(data[column])\n",
    "    label_encoders[column] = le\n"
   ]
  },
  {
   "cell_type": "code",
   "execution_count": 9,
   "id": "4d266661-e088-418b-a02f-98ce7acefb5f",
   "metadata": {},
   "outputs": [
    {
     "name": "stdout",
     "output_type": "stream",
     "text": [
      "   MEAN_MOTION  ECCENTRICITY  INCLINATION  RA_OF_ASC_NODE  ARG_OF_PERICENTER  \\\n",
      "0    -2.095417      3.199124    -2.234127       -0.799255           0.740394   \n",
      "1     0.293593     -0.356006     0.295740        0.993266          -0.065531   \n",
      "2    -2.510771     -0.242940    -2.084223       -1.431781           0.807415   \n",
      "3     0.518734     -0.339649     0.819142       -1.498860          -1.228612   \n",
      "4     0.507394     -0.338753     0.817295       -0.526079           1.716921   \n",
      "\n",
      "   MEAN_ANOMALY     BSTAR  MEAN_MOTION_DOT  MEAN_MOTION_DDOT  SEMIMAJOR_AXIS  \\\n",
      "0     -1.384968  0.767049        -0.016098         -0.013596        1.033211   \n",
      "1      0.093312  0.020344        -0.019435         -0.013596       -0.346054   \n",
      "2     -0.407260  0.018316        -0.020448         -0.013596        3.160484   \n",
      "3      1.201239  0.028027        -0.010363         -0.013596       -0.381592   \n",
      "4     -1.486581  0.030866        -0.008931         -0.013596       -0.379900   \n",
      "\n",
      "     PERIOD  APOAPSIS  PERIAPSIS  \n",
      "0  0.593700  1.676753  -0.254504  \n",
      "1 -0.268805 -0.366382  -0.234370  \n",
      "2  2.580390  2.288024   3.872888  \n",
      "3 -0.284877 -0.391026  -0.279694  \n",
      "4 -0.284121 -0.389686  -0.277811  \n"
     ]
    }
   ],
   "source": [
    "# Initialize StandardScaler\n",
    "scaler = StandardScaler()\n",
    "\n",
    "# Select the numerical columns to scale (excluding categorical columns)\n",
    "numerical_columns = ['MEAN_MOTION', 'ECCENTRICITY', 'INCLINATION', 'RA_OF_ASC_NODE', 'ARG_OF_PERICENTER', \n",
    "                     'MEAN_ANOMALY', 'BSTAR', 'MEAN_MOTION_DOT', 'MEAN_MOTION_DDOT', 'SEMIMAJOR_AXIS', \n",
    "                     'PERIOD', 'APOAPSIS', 'PERIAPSIS']\n",
    "\n",
    "# Apply scaling\n",
    "data[numerical_columns] = scaler.fit_transform(data[numerical_columns])\n",
    "\n",
    "# Verify the scaling by checking the first few rows of the scaled numerical columns\n",
    "print(data[numerical_columns].head())\n"
   ]
  },
  {
   "cell_type": "code",
   "execution_count": 10,
   "id": "e271d5b3-a06e-48dd-b26c-4bbc528d4b09",
   "metadata": {},
   "outputs": [
    {
     "name": "stdout",
     "output_type": "stream",
     "text": [
      "   EPOCH_TIMESTAMP  LAUNCH_DATE_TIMESTAMP\n",
      "0       1635720410              694224000\n",
      "1       1635697937              283996800\n",
      "2       1635744163              978307200\n",
      "3       1635678684              915148800\n",
      "4       1635702406              915148800\n"
     ]
    }
   ],
   "source": [
    "# Convert 'EPOCH' and 'LAUNCH_DATE' to Unix timestamps (if they're still in datetime format)\n",
    "data['EPOCH'] = pd.to_datetime(data['EPOCH'])\n",
    "data['LAUNCH_DATE'] = pd.to_datetime(data['LAUNCH_DATE'], format='%Y')\n",
    "\n",
    "# Convert to Unix timestamps (seconds since 1970)\n",
    "data['EPOCH_TIMESTAMP'] = data['EPOCH'].astype('int64') // 10**9\n",
    "data['LAUNCH_DATE_TIMESTAMP'] = data['LAUNCH_DATE'].astype('int64') // 10**9\n",
    "\n",
    "# Now drop the original datetime columns\n",
    "data = data.drop(columns=['EPOCH', 'LAUNCH_DATE'])\n",
    "\n",
    "# Verify the transformation\n",
    "print(data[[ 'EPOCH_TIMESTAMP', 'LAUNCH_DATE_TIMESTAMP']].head())\n"
   ]
  },
  {
   "cell_type": "code",
   "execution_count": 11,
   "id": "20c7bc13-cc66-4b3d-8ff0-0319ac8863dc",
   "metadata": {},
   "outputs": [
    {
     "name": "stdout",
     "output_type": "stream",
     "text": [
      "Top 10 features based on Information Gain:\n",
      "INCLINATION              0.514100\n",
      "LAUNCH_DATE_TIMESTAMP    0.496220\n",
      "MEAN_MOTION              0.481359\n",
      "SEMIMAJOR_AXIS           0.481315\n",
      "PERIOD                   0.481093\n",
      "APOAPSIS                 0.456526\n",
      "PERIAPSIS                0.400029\n",
      "ECCENTRICITY             0.395581\n",
      "RCS_SIZE                 0.359407\n",
      "SITE                     0.269869\n",
      "dtype: float64\n"
     ]
    }
   ],
   "source": [
    "# Set 'OBJECT_TYPE' as the target variable and drop it from the feature set\n",
    "X = data.drop(columns=['OBJECT_TYPE'])  # Features\n",
    "y = data['OBJECT_TYPE']  # Target variable\n",
    "\n",
    "# Calculate Mutual Information (Information Gain) for the features\n",
    "mutual_info = mutual_info_classif(X, y)\n",
    "mi_scores = pd.Series(mutual_info, index=X.columns).sort_values(ascending=False)\n",
    "\n",
    "# Display top 10 features based on mutual information\n",
    "print(\"Top 10 features based on Information Gain:\")\n",
    "print(mi_scores.head(10))\n"
   ]
  },
  {
   "cell_type": "code",
   "execution_count": 12,
   "id": "3fa1b63f-1a03-46a3-9066-32dc8754d27e",
   "metadata": {},
   "outputs": [
    {
     "name": "stdout",
     "output_type": "stream",
     "text": [
      "Top 10 features based on Chi-square scores:\n",
      "LAUNCH_DATE_TIMESTAMP    1.243062e+12\n",
      "FILE                     2.629937e+05\n",
      "COUNTRY_CODE             2.286236e+04\n",
      "EPOCH_TIMESTAMP          1.453638e+04\n",
      "SITE                     6.377215e+03\n",
      "RCS_SIZE                 5.362399e+03\n",
      "ECCENTRICITY             1.883629e+03\n",
      "PERIAPSIS                1.578087e+03\n",
      "MEAN_MOTION              1.095325e+03\n",
      "SEMIMAJOR_AXIS           8.981895e+02\n",
      "dtype: float64\n"
     ]
    }
   ],
   "source": [
    "chi2_scores, p_values = chi2(X.abs(), y)  # Taking absolute to ensure no negative values\n",
    "chi2_scores_series = pd.Series(chi2_scores, index=X.columns).sort_values(ascending=False)\n",
    "\n",
    "# Display top 10 features based on Chi-square scores\n",
    "print(\"Top 10 features based on Chi-square scores:\")\n",
    "print(chi2_scores_series.head(10))"
   ]
  },
  {
   "cell_type": "code",
   "execution_count": 13,
   "id": "b631040f-5c59-4d7d-a20e-e8659bc3c558",
   "metadata": {},
   "outputs": [
    {
     "name": "stdout",
     "output_type": "stream",
     "text": [
      "Top 10 features based on F-test scores:\n",
      "RCS_SIZE                 10671.128323\n",
      "LAUNCH_DATE_TIMESTAMP     8362.696842\n",
      "FILE                      1509.913031\n",
      "ECCENTRICITY              1213.980399\n",
      "INCLINATION               1130.679053\n",
      "COUNTRY_CODE               835.820459\n",
      "MEAN_MOTION                749.153980\n",
      "APOAPSIS                   616.024339\n",
      "SITE                       556.235002\n",
      "SEMIMAJOR_AXIS             512.402073\n",
      "dtype: float64\n"
     ]
    }
   ],
   "source": [
    "# Apply the F-test (ANOVA) on the features\n",
    "f_scores, p_values = f_classif(X, y)\n",
    "f_scores_series = pd.Series(f_scores, index=X.columns).sort_values(ascending=False)\n",
    "\n",
    "# Display top 10 features based on F-test scores\n",
    "print(\"Top 10 features based on F-test scores:\")\n",
    "print(f_scores_series.head(10))"
   ]
  },
  {
   "cell_type": "code",
   "execution_count": 14,
   "id": "1f809aab-3ce1-44ff-8cee-a7e1f0c6b96c",
   "metadata": {},
   "outputs": [
    {
     "name": "stdout",
     "output_type": "stream",
     "text": [
      "\n",
      "Selected Features Comparison:\n",
      "Mutual Information Top Features: ['INCLINATION', 'LAUNCH_DATE_TIMESTAMP', 'MEAN_MOTION', 'SEMIMAJOR_AXIS', 'PERIOD', 'APOAPSIS', 'PERIAPSIS', 'ECCENTRICITY', 'RCS_SIZE', 'SITE']\n",
      "Chi-Square Top Features: ['LAUNCH_DATE_TIMESTAMP', 'FILE', 'COUNTRY_CODE', 'EPOCH_TIMESTAMP', 'SITE', 'RCS_SIZE', 'ECCENTRICITY', 'PERIAPSIS', 'MEAN_MOTION', 'SEMIMAJOR_AXIS']\n",
      "F-Test Top Features: ['RCS_SIZE', 'LAUNCH_DATE_TIMESTAMP', 'FILE', 'ECCENTRICITY', 'INCLINATION', 'COUNTRY_CODE', 'MEAN_MOTION', 'APOAPSIS', 'SITE', 'SEMIMAJOR_AXIS']\n"
     ]
    }
   ],
   "source": [
    "# Compare selected features\n",
    "# Get the top 10 features for each method\n",
    "top_features_mi = mi_scores.head(10).index\n",
    "top_features_chi2 = chi2_scores_series.head(10).index\n",
    "top_features_f_test = f_scores_series.head(10).index\n",
    "print(\"\\nSelected Features Comparison:\")\n",
    "print(\"Mutual Information Top Features:\", list(top_features_mi))\n",
    "print(\"Chi-Square Top Features:\", list(top_features_chi2))\n",
    "print(\"F-Test Top Features:\", list(top_features_f_test))"
   ]
  },
  {
   "cell_type": "code",
   "execution_count": 19,
   "id": "51704dd5-efac-4854-8244-2fed1671a483",
   "metadata": {},
   "outputs": [
    {
     "name": "stdout",
     "output_type": "stream",
     "text": [
      "\n",
      "Class distribution after Random Oversampling:\n",
      "             count\n",
      "OBJECT_TYPE       \n",
      "DEBRIS        8431\n",
      "PAYLOAD       8431\n",
      "ROCKET BODY   8431\n",
      "\n",
      "Class distribution after Random Undersampling:\n",
      "             count\n",
      "OBJECT_TYPE       \n",
      "DEBRIS         744\n",
      "PAYLOAD        744\n",
      "ROCKET BODY    744\n",
      "\n",
      "Class distribution after SMOTE:\n",
      "             count\n",
      "OBJECT_TYPE       \n",
      "DEBRIS        8431\n",
      "PAYLOAD       8431\n",
      "ROCKET BODY   8431\n"
     ]
    }
   ],
   "source": [
    "# Feature selection methods\n",
    "selection_methods = {\n",
    "    'Mutual Information': top_features_mi,\n",
    "    'Chi-Square': top_features_chi2,\n",
    "    'F-Test': top_features_f_test\n",
    "}\n",
    "\n",
    "# Define a mapping from numeric labels to class names\n",
    "label_mapping = {0: 'DEBRIS', 1: 'PAYLOAD', 2: 'ROCKET BODY'}\n",
    "\n",
    "# Function to apply class balancing techniques\n",
    "def apply_class_balancing(X, y, technique):\n",
    "    if technique == 'Random Oversampling':\n",
    "        ros = RandomOverSampler(random_state=42)\n",
    "        return ros.fit_resample(X, y)\n",
    "    elif technique == 'Random Undersampling':\n",
    "        rus = RandomUnderSampler(random_state=42)\n",
    "        return rus.fit_resample(X, y)\n",
    "    elif technique == 'SMOTE':\n",
    "        smote = SMOTE(random_state=42)\n",
    "        return smote.fit_resample(X, y)\n",
    "    else:\n",
    "        raise ValueError(\"Unknown technique\")\n",
    "\n",
    "# Apply each balancing technique\n",
    "techniques = ['Random Oversampling', 'Random Undersampling', 'SMOTE']\n",
    "balanced_data = {}\n",
    "\n",
    "for technique in techniques:\n",
    "    X_bal, y_bal = apply_class_balancing(X, y, technique)\n",
    "    balanced_data[technique] = (X_bal, y_bal)\n",
    "    \n",
    "    # Convert numeric labels to class names\n",
    "    y_bal_named = pd.Series(y_bal).map(label_mapping)\n",
    "    \n",
    "    # Print class distribution after balancing\n",
    "    class_distribution = y_bal_named.value_counts().to_frame().rename(columns={0: 'Count'})\n",
    "    print(f\"\\nClass distribution after {technique}:\")\n",
    "    print(class_distribution)\n"
   ]
  },
  {
   "cell_type": "code",
   "execution_count": 32,
   "id": "52190a47-6f77-4c53-9a40-77f200a9a3c1",
   "metadata": {},
   "outputs": [
    {
     "data": {
      "image/png": "[encoded data removed]",
      "text/plain": [
       "<Figure size 1600x1200 with 4 Axes>"
      ]
     },
     "metadata": {},
     "output_type": "display_data"
    }
   ],
   "source": [
    "import matplotlib.pyplot as plt\n",
    "import pandas as pd\n",
    "\n",
    "# Define a mapping from numeric labels to class names\n",
    "label_mapping = {0: 'DEBRIS', 1: 'PAYLOAD', 2: 'ROCKET BODY'}\n",
    "\n",
    "# Convert numeric labels to class names\n",
    "def map_labels(y):\n",
    "    return pd.Series(y).map(label_mapping)\n",
    "\n",
    "# Plotting function\n",
    "def plot_class_distribution(X, y, balanced_data, filename='class_distribution.png'):\n",
    "    plt.figure(figsize=(16, 12))\n",
    "    \n",
    "    # Plotting the original class distribution\n",
    "    plt.subplot(2, 2, 1)\n",
    "    original_counts = map_labels(y).value_counts()\n",
    "    original_counts.plot(kind='bar', color='salmon')\n",
    "    plt.title('Class Distribution (Original)')\n",
    "    plt.xlabel('Class')\n",
    "    plt.ylabel('Count')\n",
    "    plt.xticks(rotation=0)\n",
    "    \n",
    "    # Plotting class distributions after each balancing technique\n",
    "    techniques = list(balanced_data.keys())\n",
    "    \n",
    "    for i, (technique, (X_bal, y_bal)) in enumerate(balanced_data.items(), start=2):\n",
    "        plt.subplot(2, 2, i)\n",
    "        balanced_counts = map_labels(y_bal).value_counts()\n",
    "        balanced_counts.plot(kind='bar', color='skyblue')\n",
    "        \n",
    "        # Optionally set y-axis limit for specific techniques\n",
    "        if technique == 'Random Undersampling':\n",
    "            plt.ylim(0, 10000)  # Set y-axis limit to 60,000\n",
    "            \n",
    "        plt.title(f'Class Distribution after {technique}')\n",
    "        plt.xlabel('Class')\n",
    "        plt.ylabel('Count')\n",
    "        plt.xticks(rotation=0)\n",
    "    \n",
    "    plt.tight_layout()\n",
    "    plt.savefig(filename)\n",
    "    plt.show()\n",
    "\n",
    "# Call the plotting function with the original and balanced data\n",
    "plot_class_distribution(X, y, balanced_data)\n"
   ]
  },
  {
   "cell_type": "code",
   "execution_count": 33,
   "id": "9a01c27b-340f-4b73-8265-5a749f0fae45",
   "metadata": {},
   "outputs": [],
   "source": [
    "# Define a function to train and evaluate models\n",
    "def train_and_evaluate(X_train, y_train, X_test, y_test):\n",
    "    models = {\n",
    "        'KNN': KNeighborsClassifier(),\n",
    "        'Decision Tree': DecisionTreeClassifier(),\n",
    "        'Random Forest': RandomForestClassifier(),\n",
    "        'SVM': SVC()\n",
    "    }\n",
    "    \n",
    "    results = {}\n",
    "    \n",
    "    for name, model in models.items():\n",
    "        model.fit(X_train, y_train)\n",
    "        y_pred = model.predict(X_test)\n",
    "        report = classification_report(y_test, y_pred, output_dict=True)\n",
    "        results[name] = report\n",
    "    \n",
    "    return results\n"
   ]
  },
  {
   "cell_type": "code",
   "execution_count": null,
   "id": "4827d1a5-f043-4b0c-b8fb-0c0c64330cd1",
   "metadata": {},
   "outputs": [
    {
     "name": "stdout",
     "output_type": "stream",
     "text": [
      "\n",
      "Feature selection using Mutual Information\n",
      "\n",
      "Results for Random Oversampling:\n",
      "\n",
      "Model: KNN\n",
      "Precision: 0.9312146277753591\n",
      "Recall: 0.839811542991755\n",
      "F1-score: 0.8831544178364987\n",
      "\n",
      "Model: Decision Tree\n",
      "Precision: 0.9866457187745483\n",
      "Recall: 0.9862583431488026\n",
      "F1-score: 0.9864519929314746\n",
      "\n",
      "Model: Random Forest\n",
      "Precision: 0.991375931007448\n",
      "Recall: 0.9929328621908127\n",
      "F1-score: 0.9921537857983523\n",
      "\n",
      "Model: SVM\n",
      "Precision: 0.6792992491955667\n",
      "Recall: 0.745975657636435\n",
      "F1-score: 0.7110778443113772\n",
      "\n",
      "Results for Random Undersampling:\n",
      "\n",
      "Model: KNN\n",
      "Precision: 0.6903765690376569\n",
      "Recall: 0.7603686635944701\n",
      "F1-score: 0.7236842105263158\n",
      "\n",
      "Model: Decision Tree\n",
      "Precision: 0.9032258064516129\n",
      "Recall: 0.9032258064516129\n",
      "F1-score: 0.9032258064516129\n",
      "\n",
      "Model: Random Forest\n",
      "Precision: 0.9282511210762332\n",
      "Recall: 0.9539170506912442\n",
      "F1-score: 0.9409090909090909\n",
      "\n",
      "Model: SVM\n",
      "Precision: 0.6564885496183206\n",
      "Recall: 0.7926267281105991\n",
      "F1-score: 0.7181628392484343\n"
     ]
    }
   ],
   "source": [
    "# Evaluate models for each feature selection method and class balancing technique\n",
    "for selection_name, selected_features in selection_methods.items():\n",
    "    X_selected = X[selected_features]\n",
    "    \n",
    "    print(f\"\\nFeature selection using {selection_name}\")\n",
    "    \n",
    "    for technique in techniques:\n",
    "        X_bal, y_bal = balanced_data[technique]\n",
    "        \n",
    "        # Split data\n",
    "        X_train, X_test, y_train, y_test = train_test_split(X_bal, y_bal, test_size=0.3, random_state=42)\n",
    "        \n",
    "        # Train and evaluate models\n",
    "        results = train_and_evaluate(X_train, y_train, X_test, y_test)\n",
    "        \n",
    "        print(f\"\\nResults for {technique}:\")\n",
    "        for model_name, report in results.items():\n",
    "            print(f\"\\nModel: {model_name}\")\n",
    "            print(f\"Precision: {report['1']['precision']}\")\n",
    "            print(f\"Recall: {report['1']['recall']}\")\n",
    "            print(f\"F1-score: {report['1']['f1-score']}\")"
   ]
  },
  {
   "cell_type": "code",
   "execution_count": null,
   "id": "8013254d-0eab-4624-901d-08f78e56996b",
   "metadata": {},
   "outputs": [],
   "source": []
  },
  {
   "cell_type": "code",
   "execution_count": null,
   "id": "39cb1fa8-8e67-49a8-b473-b476ed6ff045",
   "metadata": {},
   "outputs": [],
   "source": []
  }
 ],
 "metadata": {
  "kernelspec": {
   "display_name": "Python 3 (ipykernel)",
   "language": "python",
   "name": "python3"
  },
  "language_info": {
   "codemirror_mode": {
    "name": "ipython",
    "version": 3
   },
   "file_extension": ".py",
   "mimetype": "text/x-python",
   "name": "python",
   "nbconvert_exporter": "python",
   "pygments_lexer": "ipython3",
   "version": "3.11.8"
  }
 },
 "nbformat": 4,
 "nbformat_minor": 5
}
